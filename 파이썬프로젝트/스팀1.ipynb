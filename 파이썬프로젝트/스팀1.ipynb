{
 "cells": [
  {
   "cell_type": "code",
   "execution_count": 55,
   "metadata": {},
   "outputs": [],
   "source": [
    "from bs4 import BeautifulSoup as bs\n",
    "from selenium import webdriver as wb\n",
    "from webdriver_manager.chrome import ChromeDriverManager\n",
    "import time"
   ]
  },
  {
   "cell_type": "markdown",
   "metadata": {},
   "source": [
    "# rpg 크롤링"
   ]
  },
  {
   "cell_type": "code",
   "execution_count": 56,
   "metadata": {},
   "outputs": [
    {
     "name": "stderr",
     "output_type": "stream",
     "text": [
      "\n",
      "\n",
      "====== WebDriver manager ======\n",
      "Current google-chrome version is 91.0.4472\n",
      "Get LATEST driver version for 91.0.4472\n",
      "Driver [C:\\Users\\smhrd\\.wdm\\drivers\\chromedriver\\win32\\91.0.4472.101\\chromedriver.exe] found in cache\n"
     ]
    }
   ],
   "source": [
    "driver = wb.Chrome(ChromeDriverManager().install())\n",
    "driver.get(\"https://store.steampowered.com/category/rpg/#p=0&tab=NewReleases\")"
   ]
  },
  {
   "cell_type": "code",
   "execution_count": 57,
   "metadata": {},
   "outputs": [],
   "source": [
    "#soup = bs(driver.page_source,\"lxml\")"
   ]
  },
  {
   "cell_type": "code",
   "execution_count": 58,
   "metadata": {},
   "outputs": [],
   "source": [
    "#title = soup.select('div#tab_content_NewReleases div.tab_item_name')"
   ]
  },
  {
   "cell_type": "code",
   "execution_count": 59,
   "metadata": {},
   "outputs": [],
   "source": [
    "#title[0].text.strip()"
   ]
  },
  {
   "cell_type": "code",
   "execution_count": 60,
   "metadata": {},
   "outputs": [],
   "source": [
    "#price = soup.select(\"div#tab_content_NewReleases div.discount_final_price\")"
   ]
  },
  {
   "cell_type": "code",
   "execution_count": 61,
   "metadata": {},
   "outputs": [],
   "source": [
    "#tag = soup.select('div#tab_content_NewReleases div.tab_item_top_tags')"
   ]
  },
  {
   "cell_type": "code",
   "execution_count": 62,
   "metadata": {},
   "outputs": [],
   "source": [
    "#btn_next = driver.find_element_by_xpath('//*[@id=\"NewReleases_btn_next\"]')"
   ]
  },
  {
   "cell_type": "code",
   "execution_count": 63,
   "metadata": {},
   "outputs": [],
   "source": [
    "#btn_next.click()"
   ]
  },
  {
   "cell_type": "code",
   "execution_count": 64,
   "metadata": {},
   "outputs": [],
   "source": [
    "time.sleep(3)\n",
    "btn_search = driver.find_element_by_id('language_pulldown')\n",
    "btn_search.click()\n",
    "time.sleep(3)\n",
    "btn_search = driver.find_element_by_css_selector('#language_dropdown > div > a:nth-child(4)')\n",
    "btn_search.click()\n",
    "time.sleep(3)"
   ]
  },
  {
   "cell_type": "code",
   "execution_count": 65,
   "metadata": {},
   "outputs": [],
   "source": [
    "rpgtitle_list = []\n",
    "rpgprice_list = []\n",
    "rpgtag_list = []\n",
    "rpgimg_list = []"
   ]
  },
  {
   "cell_type": "code",
   "execution_count": null,
   "metadata": {},
   "outputs": [],
   "source": []
  },
  {
   "cell_type": "code",
   "execution_count": 66,
   "metadata": {},
   "outputs": [
    {
     "ename": "KeyboardInterrupt",
     "evalue": "",
     "output_type": "error",
     "traceback": [
      "\u001b[1;31m---------------------------------------------------------------------------\u001b[0m",
      "\u001b[1;31mKeyboardInterrupt\u001b[0m                         Traceback (most recent call last)",
      "\u001b[1;32m<ipython-input-66-33a850a39e9e>\u001b[0m in \u001b[0;36m<module>\u001b[1;34m\u001b[0m\n\u001b[0;32m     18\u001b[0m \u001b[1;33m\u001b[0m\u001b[0m\n\u001b[0;32m     19\u001b[0m \u001b[1;33m\u001b[0m\u001b[0m\n\u001b[1;32m---> 20\u001b[1;33m     \u001b[0mtime\u001b[0m\u001b[1;33m.\u001b[0m\u001b[0msleep\u001b[0m\u001b[1;33m(\u001b[0m\u001b[1;36m1\u001b[0m\u001b[1;33m)\u001b[0m\u001b[1;33m\u001b[0m\u001b[1;33m\u001b[0m\u001b[0m\n\u001b[0m\u001b[0;32m     21\u001b[0m     \u001b[0mbtn_next\u001b[0m \u001b[1;33m=\u001b[0m \u001b[0mdriver\u001b[0m\u001b[1;33m.\u001b[0m\u001b[0mfind_element_by_xpath\u001b[0m\u001b[1;33m(\u001b[0m\u001b[1;34m'//*[@id=\"NewReleases_btn_next\"]'\u001b[0m\u001b[1;33m)\u001b[0m\u001b[1;33m\u001b[0m\u001b[1;33m\u001b[0m\u001b[0m\n\u001b[0;32m     22\u001b[0m     \u001b[0mbtn_next\u001b[0m\u001b[1;33m.\u001b[0m\u001b[0mclick\u001b[0m\u001b[1;33m(\u001b[0m\u001b[1;33m)\u001b[0m\u001b[1;33m\u001b[0m\u001b[1;33m\u001b[0m\u001b[0m\n",
      "\u001b[1;31mKeyboardInterrupt\u001b[0m: "
     ]
    }
   ],
   "source": [
    "for i in range(0,20) :\n",
    "    soup = bs(driver.page_source,\"lxml\")\n",
    "    title = soup.select('div#tab_content_NewReleases div.tab_item_name')\n",
    "    price = soup.select(\"div#tab_content_NewReleases div.discount_final_price\")\n",
    "    tag = soup.select('div#tab_content_NewReleases div.tab_item_top_tags')\n",
    "    \n",
    "    for j in range(0,15):\n",
    "        rpgtitle_list.append(title[j].text.strip())\n",
    "        try : \n",
    "            rpgprice_list.append(price[j].text.strip())\n",
    "        except :\n",
    "            rpgprice_list.append('0')\n",
    "        rpgtag_list.append(tag[j].text.strip())\n",
    "        \n",
    "        img = soup.select(\"#NewReleasesRows > a:nth-child(\"+(str)(j+1)+\") > div.tab_item_cap > img\")\n",
    "        for z in img:\n",
    "            rpgimg_list.append(z['src'])\n",
    "    \n",
    "    \n",
    "    time.sleep(1)\n",
    "    btn_next = driver.find_element_by_xpath('//*[@id=\"NewReleases_btn_next\"]')\n",
    "    btn_next.click()\n",
    "    time.sleep(0.5)"
   ]
  },
  {
   "cell_type": "code",
   "execution_count": null,
   "metadata": {},
   "outputs": [],
   "source": [
    "search = '₩ '\n",
    "rpgprice_list = [word.strip(search) for word in rpgprice_list]"
   ]
  },
  {
   "cell_type": "code",
   "execution_count": null,
   "metadata": {},
   "outputs": [],
   "source": [
    "len(rpgtitle_list)"
   ]
  },
  {
   "cell_type": "code",
   "execution_count": null,
   "metadata": {},
   "outputs": [],
   "source": [
    "len(rpgprice_list)"
   ]
  },
  {
   "cell_type": "code",
   "execution_count": null,
   "metadata": {},
   "outputs": [],
   "source": [
    "len(rpgtag_list)"
   ]
  },
  {
   "cell_type": "code",
   "execution_count": null,
   "metadata": {},
   "outputs": [],
   "source": [
    "len(rpgimg_list)"
   ]
  },
  {
   "cell_type": "code",
   "execution_count": 74,
   "metadata": {},
   "outputs": [
    {
     "data": {
      "text/html": [
       "<div>\n",
       "<style scoped>\n",
       "    .dataframe tbody tr th:only-of-type {\n",
       "        vertical-align: middle;\n",
       "    }\n",
       "\n",
       "    .dataframe tbody tr th {\n",
       "        vertical-align: top;\n",
       "    }\n",
       "\n",
       "    .dataframe thead th {\n",
       "        text-align: right;\n",
       "    }\n",
       "</style>\n",
       "<table border=\"1\" class=\"dataframe\">\n",
       "  <thead>\n",
       "    <tr style=\"text-align: right;\">\n",
       "      <th></th>\n",
       "      <th>장르</th>\n",
       "      <th>게임명</th>\n",
       "      <th>가격</th>\n",
       "      <th>태그</th>\n",
       "      <th>이미지</th>\n",
       "    </tr>\n",
       "  </thead>\n",
       "  <tbody>\n",
       "    <tr>\n",
       "      <th>0</th>\n",
       "      <td>RPG</td>\n",
       "      <td>Wildermyth</td>\n",
       "      <td>20,800</td>\n",
       "      <td>풍부한 스토리, 파티 기반 RPG, 선택의 중요, 턴제 전술</td>\n",
       "      <td>https://cdn.cloudflare.steamstatic.com/steam/a...</td>\n",
       "    </tr>\n",
       "    <tr>\n",
       "      <th>1</th>\n",
       "      <td>RPG</td>\n",
       "      <td>Dark Deity</td>\n",
       "      <td>20,800</td>\n",
       "      <td>턴제 전술, 턴제전략, 전략 RPG, 어드벤처</td>\n",
       "      <td>https://cdn.cloudflare.steamstatic.com/steam/a...</td>\n",
       "    </tr>\n",
       "    <tr>\n",
       "      <th>2</th>\n",
       "      <td>RPG</td>\n",
       "      <td>Going Medieval</td>\n",
       "      <td>26,000</td>\n",
       "      <td>앞서 해보기, 도시 건설, 식민지 시뮬레이션, 중세</td>\n",
       "      <td>https://cdn.cloudflare.steamstatic.com/steam/a...</td>\n",
       "    </tr>\n",
       "    <tr>\n",
       "      <th>3</th>\n",
       "      <td>RPG</td>\n",
       "      <td>The Last Spell</td>\n",
       "      <td>18,450</td>\n",
       "      <td>앞서 해보기, 턴제 전투, 리플레이 가치, 기지 건설</td>\n",
       "      <td>https://cdn.cloudflare.steamstatic.com/steam/a...</td>\n",
       "    </tr>\n",
       "    <tr>\n",
       "      <th>4</th>\n",
       "      <td>RPG</td>\n",
       "      <td>Griftlands</td>\n",
       "      <td>20,500</td>\n",
       "      <td>카드 배틀, 로그라이트, 롤플레잉, 덱빌딩</td>\n",
       "      <td>https://cdn.cloudflare.steamstatic.com/steam/a...</td>\n",
       "    </tr>\n",
       "    <tr>\n",
       "      <th>...</th>\n",
       "      <td>...</td>\n",
       "      <td>...</td>\n",
       "      <td>...</td>\n",
       "      <td>...</td>\n",
       "      <td>...</td>\n",
       "    </tr>\n",
       "    <tr>\n",
       "      <th>295</th>\n",
       "      <td>RPG</td>\n",
       "      <td>Eviron's Chronicles</td>\n",
       "      <td>무료</td>\n",
       "      <td>카드 게임, 테이블탑, 대규모 멀티플레이어, 2D</td>\n",
       "      <td>https://cdn.cloudflare.steamstatic.com/steam/a...</td>\n",
       "    </tr>\n",
       "    <tr>\n",
       "      <th>296</th>\n",
       "      <td>RPG</td>\n",
       "      <td>Arkham Horror: Mother's Embrace</td>\n",
       "      <td>20,500</td>\n",
       "      <td>어드벤처, 롤플레잉, 러브크래프트, 폭력</td>\n",
       "      <td>https://cdn.cloudflare.steamstatic.com/steam/a...</td>\n",
       "    </tr>\n",
       "    <tr>\n",
       "      <th>297</th>\n",
       "      <td>RPG</td>\n",
       "      <td>Sentience</td>\n",
       "      <td>무료</td>\n",
       "      <td>앞서 해보기, 소셜 디덕션, 생존, 잠입</td>\n",
       "      <td>https://cdn.cloudflare.steamstatic.com/steam/a...</td>\n",
       "    </tr>\n",
       "    <tr>\n",
       "      <th>298</th>\n",
       "      <td>RPG</td>\n",
       "      <td>Crystal Raiders VR</td>\n",
       "      <td>15,500</td>\n",
       "      <td>앞서 해보기, 전략 RPG, 1인칭 슈팅, 양궁</td>\n",
       "      <td>https://cdn.cloudflare.steamstatic.com/steam/a...</td>\n",
       "    </tr>\n",
       "    <tr>\n",
       "      <th>299</th>\n",
       "      <td>RPG</td>\n",
       "      <td>Legends of Ellaria</td>\n",
       "      <td>26,000</td>\n",
       "      <td>롤플레잉, 전략, 액션, 어드벤처</td>\n",
       "      <td>https://cdn.cloudflare.steamstatic.com/steam/a...</td>\n",
       "    </tr>\n",
       "  </tbody>\n",
       "</table>\n",
       "<p>300 rows × 5 columns</p>\n",
       "</div>"
      ],
      "text/plain": [
       "      장르                              게임명      가격  \\\n",
       "0    RPG                       Wildermyth  20,800   \n",
       "1    RPG                       Dark Deity  20,800   \n",
       "2    RPG                   Going Medieval  26,000   \n",
       "3    RPG                   The Last Spell  18,450   \n",
       "4    RPG                       Griftlands  20,500   \n",
       "..   ...                              ...     ...   \n",
       "295  RPG              Eviron's Chronicles      무료   \n",
       "296  RPG  Arkham Horror: Mother's Embrace  20,500   \n",
       "297  RPG                        Sentience      무료   \n",
       "298  RPG               Crystal Raiders VR  15,500   \n",
       "299  RPG               Legends of Ellaria  26,000   \n",
       "\n",
       "                                    태그  \\\n",
       "0    풍부한 스토리, 파티 기반 RPG, 선택의 중요, 턴제 전술   \n",
       "1            턴제 전술, 턴제전략, 전략 RPG, 어드벤처   \n",
       "2         앞서 해보기, 도시 건설, 식민지 시뮬레이션, 중세   \n",
       "3        앞서 해보기, 턴제 전투, 리플레이 가치, 기지 건설   \n",
       "4              카드 배틀, 로그라이트, 롤플레잉, 덱빌딩   \n",
       "..                                 ...   \n",
       "295        카드 게임, 테이블탑, 대규모 멀티플레이어, 2D   \n",
       "296             어드벤처, 롤플레잉, 러브크래프트, 폭력   \n",
       "297             앞서 해보기, 소셜 디덕션, 생존, 잠입   \n",
       "298         앞서 해보기, 전략 RPG, 1인칭 슈팅, 양궁   \n",
       "299                 롤플레잉, 전략, 액션, 어드벤처   \n",
       "\n",
       "                                                   이미지  \n",
       "0    https://cdn.cloudflare.steamstatic.com/steam/a...  \n",
       "1    https://cdn.cloudflare.steamstatic.com/steam/a...  \n",
       "2    https://cdn.cloudflare.steamstatic.com/steam/a...  \n",
       "3    https://cdn.cloudflare.steamstatic.com/steam/a...  \n",
       "4    https://cdn.cloudflare.steamstatic.com/steam/a...  \n",
       "..                                                 ...  \n",
       "295  https://cdn.cloudflare.steamstatic.com/steam/a...  \n",
       "296  https://cdn.cloudflare.steamstatic.com/steam/a...  \n",
       "297  https://cdn.cloudflare.steamstatic.com/steam/a...  \n",
       "298  https://cdn.cloudflare.steamstatic.com/steam/a...  \n",
       "299  https://cdn.cloudflare.steamstatic.com/steam/a...  \n",
       "\n",
       "[300 rows x 5 columns]"
      ]
     },
     "execution_count": 74,
     "metadata": {},
     "output_type": "execute_result"
    }
   ],
   "source": [
    "rpg"
   ]
  },
  {
   "cell_type": "code",
   "execution_count": null,
   "metadata": {},
   "outputs": [],
   "source": [
    "# 데이터 프레임\n",
    "import pandas as pd\n",
    "dic = {\"장르\":\"RPG\", \"게임명\":rpgtitle_list, \"가격\":rpgprice_list, \"태그\":rpgtag_list, \"이미지\":rpgimg_list}\n",
    "rpg = pd.DataFrame(dic)\n",
    "rpg"
   ]
  },
  {
   "cell_type": "code",
   "execution_count": null,
   "metadata": {},
   "outputs": [],
   "source": [
    "from urllib.request import urlretrieve\n",
    "number = 1;\n",
    "for i in range(len(rpgimg_list)):\n",
    "    urlretrieve(rpgimg_list[i],'C:/Users/smhrd/Desktop/이미지/' + str(number)+'.jpg')\n",
    "    number += 1\n",
    "    time.sleep(2)"
   ]
  },
  {
   "cell_type": "code",
   "execution_count": null,
   "metadata": {},
   "outputs": [],
   "source": []
  },
  {
   "cell_type": "markdown",
   "metadata": {},
   "source": [
    "# 전략 크롤링"
   ]
  },
  {
   "cell_type": "code",
   "execution_count": 67,
   "metadata": {
    "scrolled": true
   },
   "outputs": [
    {
     "name": "stderr",
     "output_type": "stream",
     "text": [
      "\n",
      "\n",
      "====== WebDriver manager ======\n",
      "Current google-chrome version is 91.0.4472\n",
      "Get LATEST driver version for 91.0.4472\n",
      "Driver [C:\\Users\\smhrd\\.wdm\\drivers\\chromedriver\\win32\\91.0.4472.101\\chromedriver.exe] found in cache\n"
     ]
    }
   ],
   "source": [
    "driver = wb.Chrome(ChromeDriverManager().install())\n",
    "driver.get(\"https://store.steampowered.com/category/strategy/#p=0&tab=NewReleases\")\n"
   ]
  },
  {
   "cell_type": "code",
   "execution_count": 68,
   "metadata": {},
   "outputs": [],
   "source": [
    "time.sleep(3)\n",
    "\n",
    "btn_search = driver.find_element_by_id('language_pulldown')\n",
    "btn_search.click()\n",
    "time.sleep(3)\n",
    "\n",
    "btn_search = driver.find_element_by_css_selector('#language_dropdown > div > a:nth-child(4)')\n",
    "btn_search.click()\n",
    "time.sleep(3)\n"
   ]
  },
  {
   "cell_type": "code",
   "execution_count": 69,
   "metadata": {},
   "outputs": [],
   "source": [
    "strtitle_list = []\n",
    "strprice_list = []\n",
    "strtag_list = []\n",
    "strimg_list= []"
   ]
  },
  {
   "cell_type": "code",
   "execution_count": 70,
   "metadata": {},
   "outputs": [],
   "source": [
    "for i in range(0,20) :\n",
    "    soup = bs(driver.page_source,\"lxml\")\n",
    "    title = soup.select('div#tab_content_NewReleases div.tab_item_name')\n",
    "    price = soup.select(\"div#tab_content_NewReleases div.discount_final_price\")\n",
    "    tag = soup.select('div#tab_content_NewReleases div.tab_item_top_tags')\n",
    "    \n",
    "    for j in range(0,15):\n",
    "        strtitle_list.append(title[j].text.strip())\n",
    "        try : \n",
    "            strprice_list.append(price[j].text.strip())\n",
    "        except :\n",
    "            strprice_list.append('0')\n",
    "        strtag_list.append(tag[j].text.strip())\n",
    "        img = soup.select(\"#NewReleasesRows > a:nth-child(\"+(str)(j+1)+\") > div.tab_item_cap > img\")\n",
    "        for z in img:\n",
    "            strimg_list.append(z['src'])\n",
    "    \n",
    "    \n",
    "    time.sleep(1)\n",
    "    btn_next = driver.find_element_by_xpath('//*[@id=\"NewReleases_btn_next\"]')\n",
    "    btn_next.click()\n",
    "    time.sleep(0.5)"
   ]
  },
  {
   "cell_type": "code",
   "execution_count": 71,
   "metadata": {},
   "outputs": [],
   "source": [
    "search = '₩ '\n",
    "strprice_list = [word.strip(search) for word in strprice_list]"
   ]
  },
  {
   "cell_type": "code",
   "execution_count": 72,
   "metadata": {},
   "outputs": [],
   "source": [
    "dic2 = {\"장르\":\"전략\", \"게임명\":strtitle_list, \"가격\":strprice_list, \"태그\":strtag_list,\"이미지\":strimg_list}"
   ]
  },
  {
   "cell_type": "code",
   "execution_count": 73,
   "metadata": {},
   "outputs": [
    {
     "data": {
      "text/html": [
       "<div>\n",
       "<style scoped>\n",
       "    .dataframe tbody tr th:only-of-type {\n",
       "        vertical-align: middle;\n",
       "    }\n",
       "\n",
       "    .dataframe tbody tr th {\n",
       "        vertical-align: top;\n",
       "    }\n",
       "\n",
       "    .dataframe thead th {\n",
       "        text-align: right;\n",
       "    }\n",
       "</style>\n",
       "<table border=\"1\" class=\"dataframe\">\n",
       "  <thead>\n",
       "    <tr style=\"text-align: right;\">\n",
       "      <th></th>\n",
       "      <th>장르</th>\n",
       "      <th>게임명</th>\n",
       "      <th>가격</th>\n",
       "      <th>태그</th>\n",
       "      <th>이미지</th>\n",
       "    </tr>\n",
       "  </thead>\n",
       "  <tbody>\n",
       "    <tr>\n",
       "      <th>0</th>\n",
       "      <td>전략</td>\n",
       "      <td>Spellcaster University</td>\n",
       "      <td>20,800</td>\n",
       "      <td>전략, 시뮬레이션, 마법, 경영</td>\n",
       "      <td>https://cdn.cloudflare.steamstatic.com/steam/a...</td>\n",
       "    </tr>\n",
       "    <tr>\n",
       "      <th>1</th>\n",
       "      <td>전략</td>\n",
       "      <td>Call to Arms - Gates of Hell: Ostfront</td>\n",
       "      <td>20,800</td>\n",
       "      <td>실시간 전술, 제2차 세계대전, 전략, 역사</td>\n",
       "      <td>https://cdn.cloudflare.steamstatic.com/steam/a...</td>\n",
       "    </tr>\n",
       "    <tr>\n",
       "      <th>2</th>\n",
       "      <td>전략</td>\n",
       "      <td>Dark Deity</td>\n",
       "      <td>41,000</td>\n",
       "      <td>턴제 전술, 턴제전략, 전략 RPG, 어드벤처</td>\n",
       "      <td>https://cdn.cloudflare.steamstatic.com/steam/a...</td>\n",
       "    </tr>\n",
       "    <tr>\n",
       "      <th>3</th>\n",
       "      <td>전략</td>\n",
       "      <td>Sniper Ghost Warrior Contracts 2</td>\n",
       "      <td>26,000</td>\n",
       "      <td>저격수, 1인칭 슈팅, 슈팅, 잠입</td>\n",
       "      <td>https://cdn.cloudflare.steamstatic.com/steam/a...</td>\n",
       "    </tr>\n",
       "    <tr>\n",
       "      <th>4</th>\n",
       "      <td>전략</td>\n",
       "      <td>Going Medieval</td>\n",
       "      <td>20,500</td>\n",
       "      <td>앞서 해보기, 도시 건설, 식민지 시뮬레이션, 중세</td>\n",
       "      <td>https://cdn.cloudflare.steamstatic.com/steam/a...</td>\n",
       "    </tr>\n",
       "    <tr>\n",
       "      <th>...</th>\n",
       "      <td>...</td>\n",
       "      <td>...</td>\n",
       "      <td>...</td>\n",
       "      <td>...</td>\n",
       "      <td>...</td>\n",
       "    </tr>\n",
       "    <tr>\n",
       "      <th>295</th>\n",
       "      <td>전략</td>\n",
       "      <td>Empire of Ember</td>\n",
       "      <td>26,000</td>\n",
       "      <td>앞서 해보기, 액션, 판타지, 전략</td>\n",
       "      <td>https://cdn.cloudflare.steamstatic.com/steam/a...</td>\n",
       "    </tr>\n",
       "    <tr>\n",
       "      <th>296</th>\n",
       "      <td>전략</td>\n",
       "      <td>The Wave Story</td>\n",
       "      <td>5,500</td>\n",
       "      <td>전략, 퍼즐 플랫폼 게임, 퍼즐, 플랫폼 게임</td>\n",
       "      <td>https://cdn.cloudflare.steamstatic.com/steam/a...</td>\n",
       "    </tr>\n",
       "    <tr>\n",
       "      <th>297</th>\n",
       "      <td>전략</td>\n",
       "      <td>Blocky Ball</td>\n",
       "      <td>무료</td>\n",
       "      <td>캐주얼, 스포츠, PvP, 2.5D</td>\n",
       "      <td>https://cdn.cloudflare.steamstatic.com/steam/a...</td>\n",
       "    </tr>\n",
       "    <tr>\n",
       "      <th>298</th>\n",
       "      <td>전략</td>\n",
       "      <td>Wild Wild Chess</td>\n",
       "      <td>1,650</td>\n",
       "      <td>스포츠, 턴제 전술, 턴제전략, 테이블탑</td>\n",
       "      <td>https://cdn.cloudflare.steamstatic.com/steam/a...</td>\n",
       "    </tr>\n",
       "    <tr>\n",
       "      <th>299</th>\n",
       "      <td>전략</td>\n",
       "      <td>Conquer The Universe</td>\n",
       "      <td>무료</td>\n",
       "      <td>롤플레잉, 전략, 아이들러, 클리커</td>\n",
       "      <td>https://cdn.cloudflare.steamstatic.com/steam/a...</td>\n",
       "    </tr>\n",
       "  </tbody>\n",
       "</table>\n",
       "<p>300 rows × 5 columns</p>\n",
       "</div>"
      ],
      "text/plain": [
       "     장르                                     게임명      가격  \\\n",
       "0    전략                  Spellcaster University  20,800   \n",
       "1    전략  Call to Arms - Gates of Hell: Ostfront  20,800   \n",
       "2    전략                              Dark Deity  41,000   \n",
       "3    전략        Sniper Ghost Warrior Contracts 2  26,000   \n",
       "4    전략                          Going Medieval  20,500   \n",
       "..   ..                                     ...     ...   \n",
       "295  전략                         Empire of Ember  26,000   \n",
       "296  전략                          The Wave Story   5,500   \n",
       "297  전략                             Blocky Ball      무료   \n",
       "298  전략                         Wild Wild Chess   1,650   \n",
       "299  전략                    Conquer The Universe      무료   \n",
       "\n",
       "                               태그  \\\n",
       "0               전략, 시뮬레이션, 마법, 경영   \n",
       "1        실시간 전술, 제2차 세계대전, 전략, 역사   \n",
       "2       턴제 전술, 턴제전략, 전략 RPG, 어드벤처   \n",
       "3             저격수, 1인칭 슈팅, 슈팅, 잠입   \n",
       "4    앞서 해보기, 도시 건설, 식민지 시뮬레이션, 중세   \n",
       "..                            ...   \n",
       "295           앞서 해보기, 액션, 판타지, 전략   \n",
       "296     전략, 퍼즐 플랫폼 게임, 퍼즐, 플랫폼 게임   \n",
       "297           캐주얼, 스포츠, PvP, 2.5D   \n",
       "298        스포츠, 턴제 전술, 턴제전략, 테이블탑   \n",
       "299           롤플레잉, 전략, 아이들러, 클리커   \n",
       "\n",
       "                                                   이미지  \n",
       "0    https://cdn.cloudflare.steamstatic.com/steam/a...  \n",
       "1    https://cdn.cloudflare.steamstatic.com/steam/a...  \n",
       "2    https://cdn.cloudflare.steamstatic.com/steam/a...  \n",
       "3    https://cdn.cloudflare.steamstatic.com/steam/a...  \n",
       "4    https://cdn.cloudflare.steamstatic.com/steam/a...  \n",
       "..                                                 ...  \n",
       "295  https://cdn.cloudflare.steamstatic.com/steam/a...  \n",
       "296  https://cdn.cloudflare.steamstatic.com/steam/a...  \n",
       "297  https://cdn.cloudflare.steamstatic.com/steam/a...  \n",
       "298  https://cdn.cloudflare.steamstatic.com/steam/a...  \n",
       "299  https://cdn.cloudflare.steamstatic.com/steam/a...  \n",
       "\n",
       "[300 rows x 5 columns]"
      ]
     },
     "execution_count": 73,
     "metadata": {},
     "output_type": "execute_result"
    }
   ],
   "source": [
    "stra = pd.DataFrame(dic2)\n",
    "stra"
   ]
  },
  {
   "cell_type": "code",
   "execution_count": 76,
   "metadata": {
    "scrolled": true
   },
   "outputs": [
    {
     "data": {
      "text/plain": [
       "105"
      ]
     },
     "execution_count": 76,
     "metadata": {},
     "output_type": "execute_result"
    }
   ],
   "source": [
    "len(rpgimg_list)"
   ]
  },
  {
   "cell_type": "code",
   "execution_count": 77,
   "metadata": {},
   "outputs": [
    {
     "data": {
      "text/plain": [
       "300"
      ]
     },
     "execution_count": 77,
     "metadata": {},
     "output_type": "execute_result"
    }
   ],
   "source": [
    "len(strimg_list)"
   ]
  },
  {
   "cell_type": "code",
   "execution_count": null,
   "metadata": {},
   "outputs": [],
   "source": [
    "number = 301\n",
    "for i in range(len(strimg_list)):\n",
    "    urlretrieve(strimg_list[i],'C:/Users/smhrd/Desktop/이미지/' + str(number)+'.jpg')\n",
    "    number += 1\n",
    "    time.sleep(2)"
   ]
  },
  {
   "cell_type": "code",
   "execution_count": null,
   "metadata": {},
   "outputs": [],
   "source": [
    "df1 = pd.concat([rpg,stra],ignore_index=True)\n",
    "df1"
   ]
  },
  {
   "cell_type": "markdown",
   "metadata": {},
   "source": [
    "# 액션"
   ]
  },
  {
   "cell_type": "code",
   "execution_count": null,
   "metadata": {
    "scrolled": false
   },
   "outputs": [],
   "source": [
    "driver = wb.Chrome(ChromeDriverManager().install())\n",
    "driver.get(\"https://store.steampowered.com/category/action/#p=0&tab=NewReleases\")\n"
   ]
  },
  {
   "cell_type": "code",
   "execution_count": null,
   "metadata": {},
   "outputs": [],
   "source": [
    "time.sleep(3)\n",
    "\n",
    "btn_search = driver.find_element_by_id('language_pulldown')\n",
    "btn_search.click()\n",
    "time.sleep(3)\n",
    "\n",
    "btn_search = driver.find_element_by_css_selector('#language_dropdown > div > a:nth-child(4)')\n",
    "btn_search.click()\n",
    "time.sleep(3)\n"
   ]
  },
  {
   "cell_type": "code",
   "execution_count": null,
   "metadata": {},
   "outputs": [],
   "source": [
    "acttitle_list = []\n",
    "actprice_list = []\n",
    "acttag_list = []\n",
    "actimg_list= []"
   ]
  },
  {
   "cell_type": "code",
   "execution_count": null,
   "metadata": {},
   "outputs": [],
   "source": [
    "for i in range(0,20) :\n",
    "    soup = bs(driver.page_source,\"lxml\")\n",
    "    title = soup.select('div#tab_content_NewReleases div.tab_item_name')\n",
    "    price = soup.select(\"div#tab_content_NewReleases div.discount_final_price\")\n",
    "    tag = soup.select('div#tab_content_NewReleases div.tab_item_top_tags')\n",
    "    \n",
    "    for j in range(0,15):\n",
    "        acttitle_list.append(title[j].text.strip())\n",
    "        try : \n",
    "            actprice_list.append(price[j].text.strip())\n",
    "        except :\n",
    "            actprice_list.append('0')\n",
    "        acttag_list.append(tag[j].text.strip())\n",
    "        img = soup.select(\"#NewReleasesRows > a:nth-child(\"+(str)(j+1)+\") > div.tab_item_cap > img\")\n",
    "        for z in img:\n",
    "            actimg_list.append(z['src'])\n",
    "    \n",
    "    \n",
    "    time.sleep(1)\n",
    "    btn_next = driver.find_element_by_xpath('//*[@id=\"NewReleases_btn_next\"]')\n",
    "    btn_next.click()\n",
    "    time.sleep(0.5)"
   ]
  },
  {
   "cell_type": "code",
   "execution_count": null,
   "metadata": {},
   "outputs": [],
   "source": [
    "search = '₩ '\n",
    "actprice_list = [word.strip(search) for word in actprice_list]"
   ]
  },
  {
   "cell_type": "code",
   "execution_count": null,
   "metadata": {},
   "outputs": [],
   "source": [
    "dic = {\"장르\":\"액션\", \"게임명\":acttitle_list, \"가격\":actprice_list, \"태그\":acttag_list,\"이미지\":actimg_list}"
   ]
  },
  {
   "cell_type": "code",
   "execution_count": null,
   "metadata": {},
   "outputs": [],
   "source": [
    "act = pd.DataFrame(dic)\n",
    "act"
   ]
  },
  {
   "cell_type": "code",
   "execution_count": null,
   "metadata": {},
   "outputs": [],
   "source": [
    "number = 601\n",
    "for i in range(len(actimg_list)):\n",
    "    urlretrieve(actimg_list[i],'C:/Users/smhrd/Desktop/이미지/' + str(number)+'.jpg')\n",
    "    number += 1\n",
    "    time.sleep(2)"
   ]
  },
  {
   "cell_type": "code",
   "execution_count": null,
   "metadata": {},
   "outputs": [],
   "source": []
  },
  {
   "cell_type": "code",
   "execution_count": null,
   "metadata": {
    "scrolled": false
   },
   "outputs": [],
   "source": [
    "df2 = pd.concat([df1,act],ignore_index=True)\n",
    "df2"
   ]
  },
  {
   "cell_type": "code",
   "execution_count": null,
   "metadata": {},
   "outputs": [],
   "source": []
  },
  {
   "cell_type": "code",
   "execution_count": null,
   "metadata": {},
   "outputs": [],
   "source": []
  },
  {
   "cell_type": "markdown",
   "metadata": {},
   "source": [
    "# 어드벤쳐"
   ]
  },
  {
   "cell_type": "code",
   "execution_count": null,
   "metadata": {},
   "outputs": [],
   "source": [
    "driver = wb.Chrome(ChromeDriverManager().install())\n",
    "driver.get(\"https://store.steampowered.com/category/adventure_and_casual/#p=0&tab=NewReleases\")"
   ]
  },
  {
   "cell_type": "code",
   "execution_count": null,
   "metadata": {},
   "outputs": [],
   "source": [
    "time.sleep(3)\n",
    "\n",
    "btn_search = driver.find_element_by_id('language_pulldown')\n",
    "btn_search.click()\n",
    "time.sleep(3)\n",
    "\n",
    "btn_search = driver.find_element_by_css_selector('#language_dropdown > div > a:nth-child(4)')\n",
    "btn_search.click()\n",
    "time.sleep(3)\n"
   ]
  },
  {
   "cell_type": "code",
   "execution_count": null,
   "metadata": {},
   "outputs": [],
   "source": [
    "advtitle_list = []\n",
    "advprice_list = []\n",
    "advtag_list = []\n",
    "advimg_list= []"
   ]
  },
  {
   "cell_type": "code",
   "execution_count": null,
   "metadata": {},
   "outputs": [],
   "source": [
    "for i in range(0,20) :\n",
    "    soup = bs(driver.page_source,\"lxml\")\n",
    "    title = soup.select('div#tab_content_NewReleases div.tab_item_name')\n",
    "    price = soup.select(\"div#tab_content_NewReleases div.discount_final_price\")\n",
    "    tag = soup.select('div#tab_content_NewReleases div.tab_item_top_tags')\n",
    "    \n",
    "    for j in range(0,15):\n",
    "        advtitle_list.append(title[j].text.strip())\n",
    "        try : \n",
    "            advprice_list.append(price[j].text.strip())\n",
    "        except :\n",
    "            advprice_list.append('0')\n",
    "        advtag_list.append(tag[j].text.strip())\n",
    "        img = soup.select(\"#NewReleasesRows > a:nth-child(\"+(str)(j+1)+\") > div.tab_item_cap > img\")\n",
    "        for z in img:\n",
    "            advimg_list.append(z['src'])\n",
    "    \n",
    "    \n",
    "    time.sleep(1)\n",
    "    btn_next = driver.find_element_by_xpath('//*[@id=\"NewReleases_btn_next\"]')\n",
    "    btn_next.click()\n",
    "    time.sleep(0.5)"
   ]
  },
  {
   "cell_type": "code",
   "execution_count": null,
   "metadata": {},
   "outputs": [],
   "source": [
    "search = '₩ '\n",
    "advprice_list = [word.strip(search) for word in advprice_list]"
   ]
  },
  {
   "cell_type": "code",
   "execution_count": null,
   "metadata": {},
   "outputs": [],
   "source": [
    "len(advtitle_list)"
   ]
  },
  {
   "cell_type": "code",
   "execution_count": null,
   "metadata": {},
   "outputs": [],
   "source": [
    "dic5 = {\"장르\":\"어드벤처\", \"게임명\":advtitle_list, \"가격\":advprice_list, \"태그\":advtag_list,\"이미지\":advimg_list}"
   ]
  },
  {
   "cell_type": "code",
   "execution_count": null,
   "metadata": {},
   "outputs": [],
   "source": [
    "adv1 = pd.DataFrame(dic)\n",
    "adv1"
   ]
  },
  {
   "cell_type": "code",
   "execution_count": null,
   "metadata": {},
   "outputs": [],
   "source": [
    "number = 901\n",
    "for i in range(len(advimg_list)):\n",
    "    urlretrieve(advimg_list[i],'C:/Users/smhrd/Desktop/이미지/' + str(number)+'.jpg')\n",
    "    number += 1\n",
    "    time.sleep(2)"
   ]
  },
  {
   "cell_type": "code",
   "execution_count": null,
   "metadata": {
    "scrolled": true
   },
   "outputs": [],
   "source": [
    "df3 = pd.concat([df2,adv1],ignore_index=True)\n",
    "df3"
   ]
  },
  {
   "cell_type": "code",
   "execution_count": null,
   "metadata": {},
   "outputs": [],
   "source": []
  },
  {
   "cell_type": "code",
   "execution_count": null,
   "metadata": {},
   "outputs": [],
   "source": []
  },
  {
   "cell_type": "code",
   "execution_count": null,
   "metadata": {},
   "outputs": [],
   "source": []
  },
  {
   "cell_type": "code",
   "execution_count": null,
   "metadata": {},
   "outputs": [],
   "source": []
  },
  {
   "cell_type": "code",
   "execution_count": null,
   "metadata": {},
   "outputs": [],
   "source": []
  },
  {
   "cell_type": "code",
   "execution_count": null,
   "metadata": {
    "scrolled": false
   },
   "outputs": [],
   "source": [
    "sim= pd.read_csv(\"sim1.csv\")\n",
    "sim"
   ]
  },
  {
   "cell_type": "code",
   "execution_count": null,
   "metadata": {},
   "outputs": [],
   "source": [
    "driver = wb.Chrome(ChromeDriverManager().install())\n",
    "driver.get(\"https://store.steampowered.com/category/simulation/#p=0&tab=NewReleases\")"
   ]
  },
  {
   "cell_type": "code",
   "execution_count": null,
   "metadata": {},
   "outputs": [],
   "source": [
    "time.sleep(3)\n",
    "btn_search = driver.find_element_by_id('language_pulldown')\n",
    "btn_search.click()\n",
    "time.sleep(3)\n",
    "btn_search = driver.find_element_by_css_selector('#language_dropdown > div > a:nth-child(4)')\n",
    "btn_search.click()\n",
    "time.sleep(3)"
   ]
  },
  {
   "cell_type": "code",
   "execution_count": null,
   "metadata": {},
   "outputs": [],
   "source": [
    "simimg_list= []"
   ]
  },
  {
   "cell_type": "code",
   "execution_count": null,
   "metadata": {},
   "outputs": [],
   "source": [
    "for i in range(0,20) :\n",
    "    soup = bs(driver.page_source,\"lxml\")\n",
    "    \n",
    "    \n",
    "    for j in range(0,15):\n",
    "        img = soup.select(\"#NewReleasesRows > a:nth-child(\"+(str)(j+1)+\") > div.tab_item_cap > img\")\n",
    "        for z in img:\n",
    "            simimg_list.append(z['src'])\n",
    "        \n",
    " \n",
    "    time.sleep(1)\n",
    "    btn_next = driver.find_element_by_xpath('//*[@id=\"NewReleases_btn_next\"]')\n",
    "    btn_next.click()\n",
    "    time.sleep(0.5)"
   ]
  },
  {
   "cell_type": "code",
   "execution_count": null,
   "metadata": {},
   "outputs": [],
   "source": [
    "dic12 = {\"이미지\":simimg_list}"
   ]
  },
  {
   "cell_type": "code",
   "execution_count": null,
   "metadata": {},
   "outputs": [],
   "source": [
    "simimg = pd.DataFrame(dic)\n",
    "simimg"
   ]
  },
  {
   "cell_type": "code",
   "execution_count": null,
   "metadata": {},
   "outputs": [],
   "source": [
    "sim = sim.append(simimg)\n",
    "sim"
   ]
  },
  {
   "cell_type": "code",
   "execution_count": null,
   "metadata": {},
   "outputs": [],
   "source": [
    "number = 1201\n",
    "for i in range(len(advimg_list)):\n",
    "    urlretrieve(advimg_list[i],'C:/Users/smhrd/Desktop/이미지/' + str(number)+'.jpg')\n",
    "    number += 1\n",
    "    time.sleep(2)"
   ]
  },
  {
   "cell_type": "code",
   "execution_count": null,
   "metadata": {},
   "outputs": [],
   "source": []
  },
  {
   "cell_type": "code",
   "execution_count": null,
   "metadata": {},
   "outputs": [],
   "source": []
  },
  {
   "cell_type": "code",
   "execution_count": 215,
   "metadata": {
    "collapsed": true
   },
   "outputs": [
    {
     "data": {
      "text/html": [
       "<div>\n",
       "<style scoped>\n",
       "    .dataframe tbody tr th:only-of-type {\n",
       "        vertical-align: middle;\n",
       "    }\n",
       "\n",
       "    .dataframe tbody tr th {\n",
       "        vertical-align: top;\n",
       "    }\n",
       "\n",
       "    .dataframe thead th {\n",
       "        text-align: right;\n",
       "    }\n",
       "</style>\n",
       "<table border=\"1\" class=\"dataframe\">\n",
       "  <thead>\n",
       "    <tr style=\"text-align: right;\">\n",
       "      <th></th>\n",
       "      <th>장르</th>\n",
       "      <th>게임명</th>\n",
       "      <th>가격</th>\n",
       "      <th>태그</th>\n",
       "    </tr>\n",
       "  </thead>\n",
       "  <tbody>\n",
       "    <tr>\n",
       "      <th>0</th>\n",
       "      <td>RPG</td>\n",
       "      <td>Wildermyth</td>\n",
       "      <td>20,800</td>\n",
       "      <td>풍부한 스토리, 파티 기반 RPG, 선택의 중요, 턴제 전술</td>\n",
       "    </tr>\n",
       "    <tr>\n",
       "      <th>1</th>\n",
       "      <td>RPG</td>\n",
       "      <td>Going Medieval</td>\n",
       "      <td>26,000</td>\n",
       "      <td>앞서 해보기, 도시 건설, 식민지 시뮬레이션, 중세</td>\n",
       "    </tr>\n",
       "    <tr>\n",
       "      <th>2</th>\n",
       "      <td>RPG</td>\n",
       "      <td>The Last Spell</td>\n",
       "      <td>18,450</td>\n",
       "      <td>앞서 해보기, 턴제 전투, 리플레이 가치, 기지 건설</td>\n",
       "    </tr>\n",
       "    <tr>\n",
       "      <th>3</th>\n",
       "      <td>RPG</td>\n",
       "      <td>Dark Deity</td>\n",
       "      <td>20,800</td>\n",
       "      <td>턴제 전술, 전략 RPG, 턴제전략, 어드벤처</td>\n",
       "    </tr>\n",
       "    <tr>\n",
       "      <th>4</th>\n",
       "      <td>RPG</td>\n",
       "      <td>모태솔로</td>\n",
       "      <td>23,400</td>\n",
       "      <td>시뮬레이션, FMV, 시네마틱, 대화</td>\n",
       "    </tr>\n",
       "    <tr>\n",
       "      <th>...</th>\n",
       "      <td>...</td>\n",
       "      <td>...</td>\n",
       "      <td>...</td>\n",
       "      <td>...</td>\n",
       "    </tr>\n",
       "    <tr>\n",
       "      <th>1495</th>\n",
       "      <td>시뮬레이션</td>\n",
       "      <td>그녀가 공작저로 가야 했던 사정</td>\n",
       "      <td>15,000</td>\n",
       "      <td>어드벤처, 비주얼 노벨, 오토메, 여주인공</td>\n",
       "    </tr>\n",
       "    <tr>\n",
       "      <th>1496</th>\n",
       "      <td>시뮬레이션</td>\n",
       "      <td>Extreme racing</td>\n",
       "      <td>10,500</td>\n",
       "      <td>레이싱, 시뮬레이션, 스포츠, 자동차 시뮬레이션</td>\n",
       "    </tr>\n",
       "    <tr>\n",
       "      <th>1497</th>\n",
       "      <td>시뮬레이션</td>\n",
       "      <td>Conductor: Creative Joy Engine</td>\n",
       "      <td>무료</td>\n",
       "      <td>앞서 해보기, 캐주얼, 사이키델릭, 시뮬레이션</td>\n",
       "    </tr>\n",
       "    <tr>\n",
       "      <th>1498</th>\n",
       "      <td>시뮬레이션</td>\n",
       "      <td>Mech Mechanic Simulator</td>\n",
       "      <td>21,500</td>\n",
       "      <td>매크, 크래프팅, 몰입형 시뮬레이션, 샌드박스</td>\n",
       "    </tr>\n",
       "    <tr>\n",
       "      <th>1499</th>\n",
       "      <td>시뮬레이션</td>\n",
       "      <td>Condors Vs Ocelots</td>\n",
       "      <td>무료</td>\n",
       "      <td>전략, 롤플레잉, 인디, 액션</td>\n",
       "    </tr>\n",
       "  </tbody>\n",
       "</table>\n",
       "<p>1500 rows × 4 columns</p>\n",
       "</div>"
      ],
      "text/plain": [
       "         장르                             게임명      가격  \\\n",
       "0       RPG                      Wildermyth  20,800   \n",
       "1       RPG                  Going Medieval  26,000   \n",
       "2       RPG                  The Last Spell  18,450   \n",
       "3       RPG                      Dark Deity  20,800   \n",
       "4       RPG                            모태솔로  23,400   \n",
       "...     ...                             ...     ...   \n",
       "1495  시뮬레이션               그녀가 공작저로 가야 했던 사정  15,000   \n",
       "1496  시뮬레이션                  Extreme racing  10,500   \n",
       "1497  시뮬레이션  Conductor: Creative Joy Engine      무료   \n",
       "1498  시뮬레이션         Mech Mechanic Simulator  21,500   \n",
       "1499  시뮬레이션              Condors Vs Ocelots      무료   \n",
       "\n",
       "                                     태그  \n",
       "0     풍부한 스토리, 파티 기반 RPG, 선택의 중요, 턴제 전술  \n",
       "1          앞서 해보기, 도시 건설, 식민지 시뮬레이션, 중세  \n",
       "2         앞서 해보기, 턴제 전투, 리플레이 가치, 기지 건설  \n",
       "3             턴제 전술, 전략 RPG, 턴제전략, 어드벤처  \n",
       "4                  시뮬레이션, FMV, 시네마틱, 대화  \n",
       "...                                 ...  \n",
       "1495            어드벤처, 비주얼 노벨, 오토메, 여주인공  \n",
       "1496         레이싱, 시뮬레이션, 스포츠, 자동차 시뮬레이션  \n",
       "1497          앞서 해보기, 캐주얼, 사이키델릭, 시뮬레이션  \n",
       "1498          매크, 크래프팅, 몰입형 시뮬레이션, 샌드박스  \n",
       "1499                   전략, 롤플레잉, 인디, 액션  \n",
       "\n",
       "[1500 rows x 4 columns]"
      ]
     },
     "execution_count": 215,
     "metadata": {},
     "output_type": "execute_result"
    }
   ],
   "source": [
    "df4 = pd.concat([df3,sim],ignore_index=True)\n",
    "df4"
   ]
  },
  {
   "cell_type": "code",
   "execution_count": null,
   "metadata": {},
   "outputs": [],
   "source": []
  },
  {
   "cell_type": "code",
   "execution_count": null,
   "metadata": {},
   "outputs": [],
   "source": []
  },
  {
   "cell_type": "code",
   "execution_count": null,
   "metadata": {},
   "outputs": [],
   "source": []
  },
  {
   "cell_type": "code",
   "execution_count": null,
   "metadata": {},
   "outputs": [],
   "source": []
  },
  {
   "cell_type": "code",
   "execution_count": null,
   "metadata": {},
   "outputs": [],
   "source": [
    "spt= pd.read_csv(\"spt1.csv\")\n",
    "spt"
   ]
  },
  {
   "cell_type": "code",
   "execution_count": 202,
   "metadata": {
    "scrolled": true
   },
   "outputs": [
    {
     "data": {
      "text/html": [
       "<div>\n",
       "<style scoped>\n",
       "    .dataframe tbody tr th:only-of-type {\n",
       "        vertical-align: middle;\n",
       "    }\n",
       "\n",
       "    .dataframe tbody tr th {\n",
       "        vertical-align: top;\n",
       "    }\n",
       "\n",
       "    .dataframe thead th {\n",
       "        text-align: right;\n",
       "    }\n",
       "</style>\n",
       "<table border=\"1\" class=\"dataframe\">\n",
       "  <thead>\n",
       "    <tr style=\"text-align: right;\">\n",
       "      <th></th>\n",
       "      <th>장르</th>\n",
       "      <th>게임명</th>\n",
       "      <th>가격</th>\n",
       "      <th>태그</th>\n",
       "    </tr>\n",
       "  </thead>\n",
       "  <tbody>\n",
       "    <tr>\n",
       "      <th>0</th>\n",
       "      <td>스포츠및레이싱</td>\n",
       "      <td>Days Gone</td>\n",
       "      <td>58,800</td>\n",
       "      <td>오픈 월드, 포스트아포칼립스, 좀비, 싱글 플레이어</td>\n",
       "    </tr>\n",
       "    <tr>\n",
       "      <th>1</th>\n",
       "      <td>스포츠및레이싱</td>\n",
       "      <td>DRIFT21</td>\n",
       "      <td>20,800</td>\n",
       "      <td>시뮬레이션, 레이싱, 자동차 시뮬레이션, 운전</td>\n",
       "    </tr>\n",
       "    <tr>\n",
       "      <th>2</th>\n",
       "      <td>스포츠및레이싱</td>\n",
       "      <td>Knockout City™</td>\n",
       "      <td>22,000</td>\n",
       "      <td>멀티플레이어, 스포츠, 팀 기반, 경쟁</td>\n",
       "    </tr>\n",
       "    <tr>\n",
       "      <th>3</th>\n",
       "      <td>스포츠및레이싱</td>\n",
       "      <td>BIOMUTANT</td>\n",
       "      <td>64,900</td>\n",
       "      <td>오픈 월드, 액션, 롤플레잉, 싱글 플레이어</td>\n",
       "    </tr>\n",
       "    <tr>\n",
       "      <th>4</th>\n",
       "      <td>스포츠및레이싱</td>\n",
       "      <td>SnowRunner</td>\n",
       "      <td>31,800</td>\n",
       "      <td>어드벤처, 시뮬레이션, 자동차 시뮬레이션, 샌드박스</td>\n",
       "    </tr>\n",
       "    <tr>\n",
       "      <th>...</th>\n",
       "      <td>...</td>\n",
       "      <td>...</td>\n",
       "      <td>...</td>\n",
       "      <td>...</td>\n",
       "    </tr>\n",
       "    <tr>\n",
       "      <th>295</th>\n",
       "      <td>스포츠및레이싱</td>\n",
       "      <td>COMBOHEAD</td>\n",
       "      <td>5,500</td>\n",
       "      <td>스포츠, 2D 플랫폼 개임, 액션, 무술</td>\n",
       "    </tr>\n",
       "    <tr>\n",
       "      <th>296</th>\n",
       "      <td>스포츠및레이싱</td>\n",
       "      <td>The Tower Of TigerQiuQiu 2</td>\n",
       "      <td>무료</td>\n",
       "      <td>전략, 실시간 전략, 탑다운 슈터, 2D</td>\n",
       "    </tr>\n",
       "    <tr>\n",
       "      <th>297</th>\n",
       "      <td>스포츠및레이싱</td>\n",
       "      <td>Brawler</td>\n",
       "      <td>7,500</td>\n",
       "      <td>비뎀업, 아케이드, 2D, 액션</td>\n",
       "    </tr>\n",
       "    <tr>\n",
       "      <th>298</th>\n",
       "      <td>스포츠및레이싱</td>\n",
       "      <td>Hell Firefighter</td>\n",
       "      <td>1,100</td>\n",
       "      <td>실험적, 레이싱, 픽셀 그래픽, 어두운</td>\n",
       "    </tr>\n",
       "    <tr>\n",
       "      <th>299</th>\n",
       "      <td>스포츠및레이싱</td>\n",
       "      <td>Dino Galaxy Tennis</td>\n",
       "      <td>10,500</td>\n",
       "      <td>스포츠, 파티 게임, 테니스, 협동</td>\n",
       "    </tr>\n",
       "  </tbody>\n",
       "</table>\n",
       "<p>300 rows × 4 columns</p>\n",
       "</div>"
      ],
      "text/plain": [
       "          장르                         게임명      가격                            태그\n",
       "0    스포츠및레이싱                   Days Gone  58,800  오픈 월드, 포스트아포칼립스, 좀비, 싱글 플레이어\n",
       "1    스포츠및레이싱                     DRIFT21  20,800     시뮬레이션, 레이싱, 자동차 시뮬레이션, 운전\n",
       "2    스포츠및레이싱              Knockout City™  22,000         멀티플레이어, 스포츠, 팀 기반, 경쟁\n",
       "3    스포츠및레이싱                   BIOMUTANT  64,900      오픈 월드, 액션, 롤플레잉, 싱글 플레이어\n",
       "4    스포츠및레이싱                  SnowRunner  31,800  어드벤처, 시뮬레이션, 자동차 시뮬레이션, 샌드박스\n",
       "..       ...                         ...     ...                           ...\n",
       "295  스포츠및레이싱                   COMBOHEAD   5,500        스포츠, 2D 플랫폼 개임, 액션, 무술\n",
       "296  스포츠및레이싱  The Tower Of TigerQiuQiu 2      무료        전략, 실시간 전략, 탑다운 슈터, 2D\n",
       "297  스포츠및레이싱                     Brawler   7,500             비뎀업, 아케이드, 2D, 액션\n",
       "298  스포츠및레이싱            Hell Firefighter   1,100         실험적, 레이싱, 픽셀 그래픽, 어두운\n",
       "299  스포츠및레이싱          Dino Galaxy Tennis  10,500           스포츠, 파티 게임, 테니스, 협동\n",
       "\n",
       "[300 rows x 4 columns]"
      ]
     },
     "execution_count": 202,
     "metadata": {},
     "output_type": "execute_result"
    }
   ],
   "source": [
    "spt = spt.drop(['Unnamed: 0'],axis=1)\n",
    "spt"
   ]
  },
  {
   "cell_type": "code",
   "execution_count": 216,
   "metadata": {
    "scrolled": true
   },
   "outputs": [
    {
     "data": {
      "text/html": [
       "<div>\n",
       "<style scoped>\n",
       "    .dataframe tbody tr th:only-of-type {\n",
       "        vertical-align: middle;\n",
       "    }\n",
       "\n",
       "    .dataframe tbody tr th {\n",
       "        vertical-align: top;\n",
       "    }\n",
       "\n",
       "    .dataframe thead th {\n",
       "        text-align: right;\n",
       "    }\n",
       "</style>\n",
       "<table border=\"1\" class=\"dataframe\">\n",
       "  <thead>\n",
       "    <tr style=\"text-align: right;\">\n",
       "      <th></th>\n",
       "      <th>장르</th>\n",
       "      <th>게임명</th>\n",
       "      <th>가격</th>\n",
       "      <th>태그</th>\n",
       "    </tr>\n",
       "  </thead>\n",
       "  <tbody>\n",
       "    <tr>\n",
       "      <th>0</th>\n",
       "      <td>RPG</td>\n",
       "      <td>Wildermyth</td>\n",
       "      <td>20,800</td>\n",
       "      <td>풍부한 스토리, 파티 기반 RPG, 선택의 중요, 턴제 전술</td>\n",
       "    </tr>\n",
       "    <tr>\n",
       "      <th>1</th>\n",
       "      <td>RPG</td>\n",
       "      <td>Going Medieval</td>\n",
       "      <td>26,000</td>\n",
       "      <td>앞서 해보기, 도시 건설, 식민지 시뮬레이션, 중세</td>\n",
       "    </tr>\n",
       "    <tr>\n",
       "      <th>2</th>\n",
       "      <td>RPG</td>\n",
       "      <td>The Last Spell</td>\n",
       "      <td>18,450</td>\n",
       "      <td>앞서 해보기, 턴제 전투, 리플레이 가치, 기지 건설</td>\n",
       "    </tr>\n",
       "    <tr>\n",
       "      <th>3</th>\n",
       "      <td>RPG</td>\n",
       "      <td>Dark Deity</td>\n",
       "      <td>20,800</td>\n",
       "      <td>턴제 전술, 전략 RPG, 턴제전략, 어드벤처</td>\n",
       "    </tr>\n",
       "    <tr>\n",
       "      <th>4</th>\n",
       "      <td>RPG</td>\n",
       "      <td>모태솔로</td>\n",
       "      <td>23,400</td>\n",
       "      <td>시뮬레이션, FMV, 시네마틱, 대화</td>\n",
       "    </tr>\n",
       "    <tr>\n",
       "      <th>...</th>\n",
       "      <td>...</td>\n",
       "      <td>...</td>\n",
       "      <td>...</td>\n",
       "      <td>...</td>\n",
       "    </tr>\n",
       "    <tr>\n",
       "      <th>1795</th>\n",
       "      <td>스포츠및레이싱</td>\n",
       "      <td>COMBOHEAD</td>\n",
       "      <td>5,500</td>\n",
       "      <td>스포츠, 2D 플랫폼 개임, 액션, 무술</td>\n",
       "    </tr>\n",
       "    <tr>\n",
       "      <th>1796</th>\n",
       "      <td>스포츠및레이싱</td>\n",
       "      <td>The Tower Of TigerQiuQiu 2</td>\n",
       "      <td>무료</td>\n",
       "      <td>전략, 실시간 전략, 탑다운 슈터, 2D</td>\n",
       "    </tr>\n",
       "    <tr>\n",
       "      <th>1797</th>\n",
       "      <td>스포츠및레이싱</td>\n",
       "      <td>Brawler</td>\n",
       "      <td>7,500</td>\n",
       "      <td>비뎀업, 아케이드, 2D, 액션</td>\n",
       "    </tr>\n",
       "    <tr>\n",
       "      <th>1798</th>\n",
       "      <td>스포츠및레이싱</td>\n",
       "      <td>Hell Firefighter</td>\n",
       "      <td>1,100</td>\n",
       "      <td>실험적, 레이싱, 픽셀 그래픽, 어두운</td>\n",
       "    </tr>\n",
       "    <tr>\n",
       "      <th>1799</th>\n",
       "      <td>스포츠및레이싱</td>\n",
       "      <td>Dino Galaxy Tennis</td>\n",
       "      <td>10,500</td>\n",
       "      <td>스포츠, 파티 게임, 테니스, 협동</td>\n",
       "    </tr>\n",
       "  </tbody>\n",
       "</table>\n",
       "<p>1800 rows × 4 columns</p>\n",
       "</div>"
      ],
      "text/plain": [
       "           장르                         게임명      가격  \\\n",
       "0         RPG                  Wildermyth  20,800   \n",
       "1         RPG              Going Medieval  26,000   \n",
       "2         RPG              The Last Spell  18,450   \n",
       "3         RPG                  Dark Deity  20,800   \n",
       "4         RPG                        모태솔로  23,400   \n",
       "...       ...                         ...     ...   \n",
       "1795  스포츠및레이싱                   COMBOHEAD   5,500   \n",
       "1796  스포츠및레이싱  The Tower Of TigerQiuQiu 2      무료   \n",
       "1797  스포츠및레이싱                     Brawler   7,500   \n",
       "1798  스포츠및레이싱            Hell Firefighter   1,100   \n",
       "1799  스포츠및레이싱          Dino Galaxy Tennis  10,500   \n",
       "\n",
       "                                     태그  \n",
       "0     풍부한 스토리, 파티 기반 RPG, 선택의 중요, 턴제 전술  \n",
       "1          앞서 해보기, 도시 건설, 식민지 시뮬레이션, 중세  \n",
       "2         앞서 해보기, 턴제 전투, 리플레이 가치, 기지 건설  \n",
       "3             턴제 전술, 전략 RPG, 턴제전략, 어드벤처  \n",
       "4                  시뮬레이션, FMV, 시네마틱, 대화  \n",
       "...                                 ...  \n",
       "1795             스포츠, 2D 플랫폼 개임, 액션, 무술  \n",
       "1796             전략, 실시간 전략, 탑다운 슈터, 2D  \n",
       "1797                  비뎀업, 아케이드, 2D, 액션  \n",
       "1798              실험적, 레이싱, 픽셀 그래픽, 어두운  \n",
       "1799                스포츠, 파티 게임, 테니스, 협동  \n",
       "\n",
       "[1800 rows x 4 columns]"
      ]
     },
     "execution_count": 216,
     "metadata": {},
     "output_type": "execute_result"
    }
   ],
   "source": [
    "df5 = pd.concat([df4,spt],ignore_index=True)\n",
    "df5"
   ]
  },
  {
   "cell_type": "code",
   "execution_count": 217,
   "metadata": {},
   "outputs": [],
   "source": [
    "df5.to_csv(\"game_data.csv\", encoding = \"UTF-8\")"
   ]
  },
  {
   "cell_type": "code",
   "execution_count": null,
   "metadata": {},
   "outputs": [],
   "source": []
  }
 ],
 "metadata": {
  "kernelspec": {
   "display_name": "Python 3",
   "language": "python",
   "name": "python3"
  },
  "language_info": {
   "codemirror_mode": {
    "name": "ipython",
    "version": 3
   },
   "file_extension": ".py",
   "mimetype": "text/x-python",
   "name": "python",
   "nbconvert_exporter": "python",
   "pygments_lexer": "ipython3",
   "version": "3.8.5"
  },
  "toc": {
   "base_numbering": 1,
   "nav_menu": {},
   "number_sections": true,
   "sideBar": true,
   "skip_h1_title": false,
   "title_cell": "Table of Contents",
   "title_sidebar": "Contents",
   "toc_cell": false,
   "toc_position": {},
   "toc_section_display": true,
   "toc_window_display": false
  }
 },
 "nbformat": 4,
 "nbformat_minor": 5
}
