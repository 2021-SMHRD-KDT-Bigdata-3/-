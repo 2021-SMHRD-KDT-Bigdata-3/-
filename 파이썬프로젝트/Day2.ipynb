{
 "cells": [
  {
   "cell_type": "markdown",
   "metadata": {},
   "source": [
    "# 네이버 가져와보기"
   ]
  },
  {
   "cell_type": "code",
   "execution_count": 209,
   "metadata": {},
   "outputs": [],
   "source": [
    "import requests as req\n",
    "from bs4 import BeautifulSoup as bs"
   ]
  },
  {
   "cell_type": "code",
   "execution_count": 184,
   "metadata": {},
   "outputs": [],
   "source": [
    "naver = req.get(\"https://movie.naver.com/movie/sdb/rank/rmovie.nhn?sel=cur&date=20200401\")"
   ]
  },
  {
   "cell_type": "code",
   "execution_count": 185,
   "metadata": {},
   "outputs": [],
   "source": [
    "movie = bs(naver.text,\"lxml\")"
   ]
  },
  {
   "cell_type": "code",
   "execution_count": 186,
   "metadata": {},
   "outputs": [],
   "source": [
    "result = movie.find_all(\"div\",class_= \"tit5\")"
   ]
  },
  {
   "cell_type": "code",
   "execution_count": 187,
   "metadata": {},
   "outputs": [],
   "source": [
    "result2 = movie.find_all(\"td\",class_= \"point\")"
   ]
  },
  {
   "cell_type": "code",
   "execution_count": 188,
   "metadata": {},
   "outputs": [
    {
     "name": "stdout",
     "output_type": "stream",
     "text": [
      "트루먼 쇼\n",
      "동급생\n",
      "조조 래빗\n",
      "스타 이즈 본\n",
      "바울\n",
      "어바웃 타임\n",
      "일 포스티노\n",
      "흑집사 : 북 오브 더 아틀란틱\n",
      "나이브스 아웃\n",
      "히트\n",
      "극장판 쿠로코의 농구 라스트 게임\n",
      "노팅 힐\n",
      "샤인\n",
      "타오르는 여인의 초상\n",
      "비긴 어게인\n",
      "동감\n",
      "델마와 루이스\n",
      "1917\n",
      "스포트라이트\n",
      "시티 오브 갓\n",
      "작은 아씨들\n",
      "천로역정: 천국을 찾아서\n",
      "너의 이름은.\n",
      "벌새\n",
      "부르고뉴, 와인에서 찾은 인생\n",
      "부당거래\n",
      "브리짓 존스의 일기\n",
      "그을린 사랑\n",
      "다크 워터스\n",
      "라라랜드\n",
      "내일을 위한 시간\n",
      "울프 콜\n",
      "미드나잇 인 파리\n",
      "그녀\n",
      "더 와이프\n",
      "러브 라이브! 더 스쿨 아이돌 무비\n",
      "신비아파트 극장판 하늘도깨비 대 요르문간드\n",
      "기생충\n",
      "스틸 앨리스\n",
      "아무르\n",
      "500일의 썸머\n",
      "레토\n",
      "그랜드 부다페스트 호텔\n",
      "러브 라이브! 선샤인!! 더 스쿨 아이돌 무비 오버 더 레인보우\n",
      "케빈에 대하여\n",
      "유스\n",
      "젠틀맨\n",
      "우리도 사랑일까\n",
      "수퍼 소닉\n",
      "메기\n"
     ]
    }
   ],
   "source": [
    "for i in result:\n",
    "    print(i.text.strip())"
   ]
  },
  {
   "cell_type": "code",
   "execution_count": 189,
   "metadata": {
    "collapsed": true
   },
   "outputs": [
    {
     "name": "stdout",
     "output_type": "stream",
     "text": [
      "9.33\n",
      "9.20\n",
      "9.18\n",
      "9.17\n",
      "9.16\n",
      "9.16\n",
      "9.15\n",
      "9.15\n",
      "9.11\n",
      "9.09\n",
      "9.09\n",
      "9.08\n",
      "9.08\n",
      "9.04\n",
      "9.02\n",
      "8.98\n",
      "8.96\n",
      "8.94\n",
      "8.93\n",
      "8.83\n",
      "8.82\n",
      "8.77\n",
      "8.77\n",
      "8.76\n",
      "8.69\n",
      "8.69\n",
      "8.67\n",
      "8.65\n",
      "8.61\n",
      "8.60\n",
      "8.55\n",
      "8.54\n",
      "8.53\n",
      "8.52\n",
      "8.51\n",
      "8.51\n",
      "8.51\n",
      "8.49\n",
      "8.46\n",
      "8.45\n",
      "8.41\n",
      "8.40\n",
      "8.38\n",
      "8.37\n",
      "8.36\n",
      "8.30\n",
      "8.29\n",
      "8.28\n",
      "8.27\n",
      "8.27\n"
     ]
    }
   ],
   "source": [
    "for i in result2:\n",
    "    print(i.text)"
   ]
  },
  {
   "cell_type": "code",
   "execution_count": 190,
   "metadata": {},
   "outputs": [],
   "source": [
    "rank_list = []\n",
    "title_list = []\n",
    "score_list = []\n",
    "for i in range(len(result)):\n",
    "    rank_list.append(i+1)\n",
    "    title_list.append(result[i].text.strip())\n",
    "    score_list.append(result2[i].text)"
   ]
  },
  {
   "cell_type": "code",
   "execution_count": 191,
   "metadata": {},
   "outputs": [],
   "source": [
    "movie_total = {'rank':rank_list , '영화제목' : title_list, '평점' : score_list}"
   ]
  },
  {
   "cell_type": "code",
   "execution_count": 211,
   "metadata": {},
   "outputs": [],
   "source": [
    "import pandas as pd"
   ]
  },
  {
   "cell_type": "code",
   "execution_count": 193,
   "metadata": {},
   "outputs": [],
   "source": [
    "movie_df = pd.DataFrame(movie_total)"
   ]
  },
  {
   "cell_type": "code",
   "execution_count": 194,
   "metadata": {},
   "outputs": [],
   "source": [
    "movie_df.set_index(\"rank\", inplace = (True))"
   ]
  },
  {
   "cell_type": "code",
   "execution_count": 195,
   "metadata": {},
   "outputs": [],
   "source": [
    "movie_df.to_csv('movie_total2.csv', encoding = \"\")"
   ]
  },
  {
   "cell_type": "code",
   "execution_count": null,
   "metadata": {},
   "outputs": [],
   "source": []
  },
  {
   "cell_type": "code",
   "execution_count": 196,
   "metadata": {
    "collapsed": true
   },
   "outputs": [
    {
     "data": {
      "text/plain": [
       "[<a href=\"/movie/bi/mi/basic.nhn?code=19099\" title=\"트루먼 쇼\">트루먼 쇼</a>,\n",
       " <a href=\"/movie/bi/mi/basic.nhn?code=148338\" title=\"동급생\">동급생</a>,\n",
       " <a href=\"/movie/bi/mi/basic.nhn?code=187308\" title=\"조조 래빗\">조조 래빗</a>,\n",
       " <a href=\"/movie/bi/mi/basic.nhn?code=168050\" title=\"스타 이즈 본\">스타 이즈 본</a>,\n",
       " <a href=\"/movie/bi/mi/basic.nhn?code=173692\" title=\"바울\">바울</a>,\n",
       " <a href=\"/movie/bi/mi/basic.nhn?code=92075\" title=\"어바웃 타임\">어바웃 타임</a>,\n",
       " <a href=\"/movie/bi/mi/basic.nhn?code=17796\" title=\"일 포스티노\">일 포스티노</a>,\n",
       " <a href=\"/movie/bi/mi/basic.nhn?code=158578\" title=\"흑집사 : 북 오브 더 아틀란틱\">흑집사 : 북 오브 더 아틀란틱</a>,\n",
       " <a href=\"/movie/bi/mi/basic.nhn?code=189000\" title=\"나이브스 아웃\">나이브스 아웃</a>,\n",
       " <a href=\"/movie/bi/mi/basic.nhn?code=17327\" title=\"히트\">히트</a>,\n",
       " <a href=\"/movie/bi/mi/basic.nhn?code=156185\" title=\"극장판 쿠로코의 농구 라스트 게임\">극장판 쿠로코의 농구 라스트 게임</a>,\n",
       " <a href=\"/movie/bi/mi/basic.nhn?code=24830\" title=\"노팅 힐\">노팅 힐</a>,\n",
       " <a href=\"/movie/bi/mi/basic.nhn?code=17970\" title=\"샤인\">샤인</a>,\n",
       " <a href=\"/movie/bi/mi/basic.nhn?code=185282\" title=\"타오르는 여인의 초상\">타오르는 여인의 초상</a>,\n",
       " <a href=\"/movie/bi/mi/basic.nhn?code=96379\" title=\"비긴 어게인\">비긴 어게인</a>,\n",
       " <a href=\"/movie/bi/mi/basic.nhn?code=29756\" title=\"동감\">동감</a>,\n",
       " <a href=\"/movie/bi/mi/basic.nhn?code=10262\" title=\"델마와 루이스\">델마와 루이스</a>,\n",
       " <a href=\"/movie/bi/mi/basic.nhn?code=187321\" title=\"1917\">1917</a>,\n",
       " <a href=\"/movie/bi/mi/basic.nhn?code=129072\" title=\"스포트라이트\">스포트라이트</a>,\n",
       " <a href=\"/movie/bi/mi/basic.nhn?code=36651\" title=\"시티 오브 갓\">시티 오브 갓</a>,\n",
       " <a href=\"/movie/bi/mi/basic.nhn?code=186613\" title=\"작은 아씨들\">작은 아씨들</a>,\n",
       " <a href=\"/movie/bi/mi/basic.nhn?code=183836\" title=\"천로역정: 천국을 찾아서\">천로역정: 천국을 찾아서</a>,\n",
       " <a href=\"/movie/bi/mi/basic.nhn?code=150198\" title=\"너의 이름은.\">너의 이름은.</a>,\n",
       " <a href=\"/movie/bi/mi/basic.nhn?code=179307\" title=\"벌새\">벌새</a>,\n",
       " <a href=\"/movie/bi/mi/basic.nhn?code=164684\" title=\"부르고뉴, 와인에서 찾은 인생\">부르고뉴, 와인에서 찾은 인생</a>,\n",
       " <a href=\"/movie/bi/mi/basic.nhn?code=52747\" title=\"부당거래\">부당거래</a>,\n",
       " <a href=\"/movie/bi/mi/basic.nhn?code=31565\" title=\"브리짓 존스의 일기\">브리짓 존스의 일기</a>,\n",
       " <a href=\"/movie/bi/mi/basic.nhn?code=78240\" title=\"그을린 사랑\">그을린 사랑</a>,\n",
       " <a href=\"/movie/bi/mi/basic.nhn?code=190728\" title=\"다크 워터스\">다크 워터스</a>,\n",
       " <a href=\"/movie/bi/mi/basic.nhn?code=134963\" title=\"라라랜드\">라라랜드</a>,\n",
       " <a href=\"/movie/bi/mi/basic.nhn?code=123298\" title=\"내일을 위한 시간\">내일을 위한 시간</a>,\n",
       " <a href=\"/movie/bi/mi/basic.nhn?code=189028\" title=\"울프 콜\">울프 콜</a>,\n",
       " <a href=\"/movie/bi/mi/basic.nhn?code=74610\" title=\"미드나잇 인 파리\">미드나잇 인 파리</a>,\n",
       " <a href=\"/movie/bi/mi/basic.nhn?code=101950\" title=\"그녀\">그녀</a>,\n",
       " <a href=\"/movie/bi/mi/basic.nhn?code=167054\" title=\"더 와이프\">더 와이프</a>,\n",
       " <a href=\"/movie/bi/mi/basic.nhn?code=140895\" title=\"러브 라이브! 더 스쿨 아이돌 무비\">러브 라이브! 더 스쿨 아이돌 무비</a>,\n",
       " <a href=\"/movie/bi/mi/basic.nhn?code=189046\" title=\"신비아파트 극장판 하늘도깨비 대 요르문간드\">신비아파트 극장판 하늘도깨비 대 요르문간드</a>,\n",
       " <a href=\"/movie/bi/mi/basic.nhn?code=161967\" title=\"기생충\">기생충</a>,\n",
       " <a href=\"/movie/bi/mi/basic.nhn?code=120759\" title=\"스틸 앨리스\">스틸 앨리스</a>,\n",
       " <a href=\"/movie/bi/mi/basic.nhn?code=92505\" title=\"아무르\">아무르</a>,\n",
       " <a href=\"/movie/bi/mi/basic.nhn?code=53152\" title=\"500일의 썸머\">500일의 썸머</a>,\n",
       " <a href=\"/movie/bi/mi/basic.nhn?code=173840\" title=\"레토\">레토</a>,\n",
       " <a href=\"/movie/bi/mi/basic.nhn?code=97612\" title=\"그랜드 부다페스트 호텔\">그랜드 부다페스트 호텔</a>,\n",
       " <a href=\"/movie/bi/mi/basic.nhn?code=181711\" title=\"러브 라이브! 선샤인!! 더 스쿨 아이돌 무비 오버 더 레인보우\">러브 라이브! 선샤인!! 더 스쿨 아이돌 무비 오버 더 레인보우</a>,\n",
       " <a href=\"/movie/bi/mi/basic.nhn?code=86843\" title=\"케빈에 대하여\">케빈에 대하여</a>,\n",
       " <a href=\"/movie/bi/mi/basic.nhn?code=139438\" title=\"유스\">유스</a>,\n",
       " <a href=\"/movie/bi/mi/basic.nhn?code=190720\" title=\"젠틀맨\">젠틀맨</a>,\n",
       " <a href=\"/movie/bi/mi/basic.nhn?code=78845\" title=\"우리도 사랑일까\">우리도 사랑일까</a>,\n",
       " <a href=\"/movie/bi/mi/basic.nhn?code=172816\" title=\"수퍼 소닉\">수퍼 소닉</a>,\n",
       " <a href=\"/movie/bi/mi/basic.nhn?code=179398\" title=\"메기\">메기</a>]"
      ]
     },
     "execution_count": 196,
     "metadata": {},
     "output_type": "execute_result"
    }
   ],
   "source": [
    "#이기성 썜 풀이 - .find_all() 보단 .select()로 찾으셨다. 차이점은\n",
    "title = movie.select('div.tit5 > a')\n",
    "title"
   ]
  },
  {
   "cell_type": "code",
   "execution_count": 197,
   "metadata": {
    "collapsed": true
   },
   "outputs": [
    {
     "data": {
      "text/plain": [
       "[<td class=\"point\">9.33</td>,\n",
       " <td class=\"point\">9.20</td>,\n",
       " <td class=\"point\">9.18</td>,\n",
       " <td class=\"point\">9.17</td>,\n",
       " <td class=\"point\">9.16</td>,\n",
       " <td class=\"point\">9.16</td>,\n",
       " <td class=\"point\">9.15</td>,\n",
       " <td class=\"point\">9.15</td>,\n",
       " <td class=\"point\">9.11</td>,\n",
       " <td class=\"point\">9.09</td>,\n",
       " <td class=\"point\">9.09</td>,\n",
       " <td class=\"point\">9.08</td>,\n",
       " <td class=\"point\">9.08</td>,\n",
       " <td class=\"point\">9.04</td>,\n",
       " <td class=\"point\">9.02</td>,\n",
       " <td class=\"point\">8.98</td>,\n",
       " <td class=\"point\">8.96</td>,\n",
       " <td class=\"point\">8.94</td>,\n",
       " <td class=\"point\">8.93</td>,\n",
       " <td class=\"point\">8.83</td>,\n",
       " <td class=\"point\">8.82</td>,\n",
       " <td class=\"point\">8.77</td>,\n",
       " <td class=\"point\">8.77</td>,\n",
       " <td class=\"point\">8.76</td>,\n",
       " <td class=\"point\">8.69</td>,\n",
       " <td class=\"point\">8.69</td>,\n",
       " <td class=\"point\">8.67</td>,\n",
       " <td class=\"point\">8.65</td>,\n",
       " <td class=\"point\">8.61</td>,\n",
       " <td class=\"point\">8.60</td>,\n",
       " <td class=\"point\">8.55</td>,\n",
       " <td class=\"point\">8.54</td>,\n",
       " <td class=\"point\">8.53</td>,\n",
       " <td class=\"point\">8.52</td>,\n",
       " <td class=\"point\">8.51</td>,\n",
       " <td class=\"point\">8.51</td>,\n",
       " <td class=\"point\">8.51</td>,\n",
       " <td class=\"point\">8.49</td>,\n",
       " <td class=\"point\">8.46</td>,\n",
       " <td class=\"point\">8.45</td>,\n",
       " <td class=\"point\">8.41</td>,\n",
       " <td class=\"point\">8.40</td>,\n",
       " <td class=\"point\">8.38</td>,\n",
       " <td class=\"point\">8.37</td>,\n",
       " <td class=\"point\">8.36</td>,\n",
       " <td class=\"point\">8.30</td>,\n",
       " <td class=\"point\">8.29</td>,\n",
       " <td class=\"point\">8.28</td>,\n",
       " <td class=\"point\">8.27</td>,\n",
       " <td class=\"point\">8.27</td>]"
      ]
     },
     "execution_count": 197,
     "metadata": {},
     "output_type": "execute_result"
    }
   ],
   "source": [
    "point = movie.select('td.point')\n",
    "point"
   ]
  },
  {
   "cell_type": "code",
   "execution_count": null,
   "metadata": {},
   "outputs": [],
   "source": []
  },
  {
   "cell_type": "code",
   "execution_count": null,
   "metadata": {},
   "outputs": [],
   "source": []
  },
  {
   "cell_type": "code",
   "execution_count": null,
   "metadata": {},
   "outputs": [],
   "source": []
  },
  {
   "cell_type": "markdown",
   "metadata": {},
   "source": [
    "# 진행사항을 알려주는 함수"
   ]
  },
  {
   "cell_type": "code",
   "execution_count": 210,
   "metadata": {},
   "outputs": [],
   "source": [
    "from tqdm import tqdm_notebook"
   ]
  },
  {
   "cell_type": "code",
   "execution_count": null,
   "metadata": {},
   "outputs": [],
   "source": []
  },
  {
   "cell_type": "code",
   "execution_count": 199,
   "metadata": {},
   "outputs": [
    {
     "name": "stderr",
     "output_type": "stream",
     "text": [
      "<ipython-input-199-f609b8abfb38>:4: TqdmDeprecationWarning: This function will be removed in tqdm==5.0.0\n",
      "Please use `tqdm.notebook.tqdm` instead of `tqdm.tqdm_notebook`\n",
      "  for day in tqdm_notebook(days): #tqdm_notebook() 진행사항 알려주는 함수\n"
     ]
    },
    {
     "data": {
      "application/vnd.jupyter.widget-view+json": {
       "model_id": "eab7552410594d97b0206acbd6b443ff",
       "version_major": 2,
       "version_minor": 0
      },
      "text/plain": [
       "HBox(children=(HTML(value=''), FloatProgress(value=0.0, max=366.0), HTML(value='')))"
      ]
     },
     "metadata": {},
     "output_type": "display_data"
    },
    {
     "name": "stdout",
     "output_type": "stream",
     "text": [
      "\n"
     ]
    }
   ],
   "source": [
    "rank_list = []\n",
    "title_list = []\n",
    "score_list = []\n",
    "for day in tqdm_notebook(days): #tqdm_notebook() 진행사항 알려주는 함수\n",
    "    url = \"https://movie.naver.com/movie/sdb/rank/rmovie.nhn?sel=cur&date=\"+ str(day) # day는 숫자이므로 문자열로\n",
    "    res = req.get(url)\n",
    "    soup = bs(res.content,\"lxml\")\n",
    "    movie = soup.select(\"div.tit5 > a\")\n",
    "    point = soup.select(\"td.point\")\n",
    "    \n",
    "    for i in range(len(movie)):\n",
    "        rank_list.append(i+1)\n",
    "        title_list.append(result[i].text.strip())\n",
    "        score_list.append(result2[i].text)"
   ]
  },
  {
   "cell_type": "code",
   "execution_count": 200,
   "metadata": {},
   "outputs": [
    {
     "data": {
      "text/plain": [
       "(17756, 17756, 17756)"
      ]
     },
     "execution_count": 200,
     "metadata": {},
     "output_type": "execute_result"
    }
   ],
   "source": [
    "len(rank_list), len(title_list), len(score_list)"
   ]
  },
  {
   "cell_type": "markdown",
   "metadata": {},
   "source": [
    "# 만약 1년치를 가져와야 한다면?"
   ]
  },
  {
   "cell_type": "code",
   "execution_count": 201,
   "metadata": {
    "collapsed": true
   },
   "outputs": [
    {
     "data": {
      "text/plain": [
       "DatetimeIndex(['2020-01-01', '2020-01-02', '2020-01-03', '2020-01-04',\n",
       "               '2020-01-05', '2020-01-06', '2020-01-07', '2020-01-08',\n",
       "               '2020-01-09', '2020-01-10',\n",
       "               ...\n",
       "               '2020-12-22', '2020-12-23', '2020-12-24', '2020-12-25',\n",
       "               '2020-12-26', '2020-12-27', '2020-12-28', '2020-12-29',\n",
       "               '2020-12-30', '2020-12-31'],\n",
       "              dtype='datetime64[ns]', length=366, freq='D')"
      ]
     },
     "execution_count": 201,
     "metadata": {},
     "output_type": "execute_result"
    }
   ],
   "source": [
    "date = pd.date_range(start = '20200101', end = '20201231')\n",
    "date"
   ]
  },
  {
   "cell_type": "code",
   "execution_count": 202,
   "metadata": {},
   "outputs": [],
   "source": [
    "days = date.strftime('%Y%m%d') # 년월일 모양 바꾸기 가능 대문자 소문자 따로따로 다 다름.strftime()"
   ]
  },
  {
   "cell_type": "code",
   "execution_count": 203,
   "metadata": {},
   "outputs": [
    {
     "data": {
      "text/plain": [
       "Index(['20200101', '20200102', '20200103', '20200104', '20200105', '20200106',\n",
       "       '20200107', '20200108', '20200109', '20200110',\n",
       "       ...\n",
       "       '20201222', '20201223', '20201224', '20201225', '20201226', '20201227',\n",
       "       '20201228', '20201229', '20201230', '20201231'],\n",
       "      dtype='object', length=366)"
      ]
     },
     "execution_count": 203,
     "metadata": {},
     "output_type": "execute_result"
    }
   ],
   "source": [
    "days"
   ]
  },
  {
   "cell_type": "code",
   "execution_count": 204,
   "metadata": {},
   "outputs": [],
   "source": [
    "reple = req.get(\"https://movie.naver.com/movie/bi/mi/point.nhn?code=189075\")"
   ]
  },
  {
   "cell_type": "code",
   "execution_count": 205,
   "metadata": {},
   "outputs": [],
   "source": [
    "soup = bs(reple.text,\"lxml\")"
   ]
  },
  {
   "cell_type": "code",
   "execution_count": 206,
   "metadata": {},
   "outputs": [],
   "source": [
    "result = soup.select(\"div.score_reple\")"
   ]
  },
  {
   "cell_type": "code",
   "execution_count": 207,
   "metadata": {
    "collapsed": true
   },
   "outputs": [
    {
     "name": "stdout",
     "output_type": "stream",
     "text": [
      "\n",
      "정치, 과학, 철학의 방향에 관한 고민. 일단 잘 찍는 것에서 시작\n",
      "\n",
      "씨네21\n",
      "\n",
      "\t\t\t\t\t\t\t\t\t\t\t\t\t\t\t\t| 김현수\n",
      "\t\t\t\t\t\t\t\t\t\t\t\t\t\t\t\n",
      "\n",
      "\n",
      "\n",
      "흠뻑 취했다, 섬에서만\n",
      "\n",
      "씨네21\n",
      "\n",
      "\t\t\t\t\t\t\t\t\t\t\t\t\t\t\t\t| 박평식\n",
      "\t\t\t\t\t\t\t\t\t\t\t\t\t\t\t\n",
      "\n",
      "\n",
      "\n",
      "약용보다, 흑산의 약전을 기억하리라\n",
      "\n",
      "씨네21\n",
      "\n",
      "\t\t\t\t\t\t\t\t\t\t\t\t\t\t\t\t| 이용철\n",
      "\t\t\t\t\t\t\t\t\t\t\t\t\t\t\t\n",
      "\n",
      "\n",
      "\n",
      "거대한 역사를 쉽고 선명하게 꿰어내는 솜씨\n",
      "\n",
      "씨네21\n",
      "\n",
      "\t\t\t\t\t\t\t\t\t\t\t\t\t\t\t\t| 이주현\n",
      "\t\t\t\t\t\t\t\t\t\t\t\t\t\t\t\n",
      "\n",
      "\n"
     ]
    }
   ],
   "source": [
    "for i in result:\n",
    "    print(i.text)"
   ]
  },
  {
   "cell_type": "markdown",
   "metadata": {},
   "source": [
    "# iframe 태그 크롤링 "
   ]
  },
  {
   "cell_type": "code",
   "execution_count": 263,
   "metadata": {},
   "outputs": [],
   "source": [
    "naver = req.get(\"https://movie.naver.com/movie/bi/mi/pointWriteFormList.nhn?code=189075&type=after&onlyActualPointYn=N&onlySpoilerPointYn=N&order=sympathyScore&page=1\")"
   ]
  },
  {
   "cell_type": "code",
   "execution_count": 264,
   "metadata": {},
   "outputs": [],
   "source": [
    "soup = bs(naver.text,\"lxml\")"
   ]
  },
  {
   "cell_type": "code",
   "execution_count": 265,
   "metadata": {},
   "outputs": [],
   "source": [
    "movie = soup.select(\"div.score_reple>p\") #score_reple 뒤에 공백 (자손)선택자 스판을 데려오겠다. 아이디만이라도 뺼려고 p를 가져왔다."
   ]
  },
  {
   "cell_type": "code",
   "execution_count": 266,
   "metadata": {},
   "outputs": [],
   "source": [
    "reple_list = []\n",
    "\n",
    "icon = soup.select(\"span.ico_viewer\") #관람객이라는 이미지를 삭제하고자 할떄 정보를 불러와서 가공한뒤\n",
    "\n",
    "for i in icon: # .extract() 제외시키겠다\n",
    "    i.extract()\n",
    "\n",
    "for i in movie:\n",
    "    reple_list.append(i.text.strip())"
   ]
  },
  {
   "cell_type": "code",
   "execution_count": 268,
   "metadata": {},
   "outputs": [
    {
     "data": {
      "text/plain": [
       "['근래에 봤던 영화 중에 가장 깊은 감동이 있네요.보고 나온 이후에도 여운이 길어서 많은분들께 추천해드리고싶습니다.  연출 배우님들 참 멋지고 좋습니다.',\n",
       " '얼마만에 보는 제대로된 한국영화냥 ㅠㅠㅠ 이준익감독님  좋은영화 감사해요! 저는 영화 너무 좋아서 한번더보려구요...',\n",
       " '내 인생 가장 잘한 일 중 하나가 왕의 남자 영화관에서 본 거였는데이번에 자산어보 개봉첫날 조조로 본거 잘한 일에 추가합니다',\n",
       " '흑백의 미. 양반, 상X이란 단어는 쓰이지 않을 지언정 지금도 크게 다르지 않은 현실이 슬프다.',\n",
       " '마침 최근 강진군 여행시 다산의 흔적을 보고 왔는데영화에서 다산과 자산의 애틋한 형제애가 따뜻해 보인다배우들의 연기력도 좋고 바다를 배경으로 한 영상미가 뛰어났다',\n",
       " '설경구 연기 너무 잘해요 그리고 너무 감동적~~',\n",
       " '최근 몇 년간 나온 한국 영화 중 최고의 작품으로 생각됩니다. 메시지와 재미, 연기, 영상미 등등 빠지는게 없는 영화네요! 역시 이준익 감독님입니다!',\n",
       " '간만에 영화다운 영화봄.. 예나지금이나 서민들만 죽어나는구나',\n",
       " '흑백영화라 사실 왜 흑백으로 했을까 생각했었는데 영화를 끝까지 다보고 난 뒤 이준익 감독님의 소름돋는 연출력을 느낄수 있었습니다 오랜만에 눈물도 흘리고 넘 재밌게 본 영화네요 개인적으로 한국사공부하면서 정약전에 대해...',\n",
       " '맘편하게 볼 수 있었던 작품성 높았던 영화!']"
      ]
     },
     "execution_count": 268,
     "metadata": {},
     "output_type": "execute_result"
    }
   ],
   "source": [
    "reple_list"
   ]
  },
  {
   "cell_type": "code",
   "execution_count": null,
   "metadata": {},
   "outputs": [],
   "source": []
  },
  {
   "cell_type": "code",
   "execution_count": null,
   "metadata": {},
   "outputs": [],
   "source": []
  },
  {
   "cell_type": "code",
   "execution_count": null,
   "metadata": {},
   "outputs": [],
   "source": []
  },
  {
   "cell_type": "code",
   "execution_count": null,
   "metadata": {},
   "outputs": [],
   "source": []
  },
  {
   "cell_type": "code",
   "execution_count": null,
   "metadata": {},
   "outputs": [],
   "source": []
  },
  {
   "cell_type": "code",
   "execution_count": null,
   "metadata": {},
   "outputs": [],
   "source": []
  },
  {
   "cell_type": "code",
   "execution_count": null,
   "metadata": {},
   "outputs": [],
   "source": []
  },
  {
   "cell_type": "code",
   "execution_count": null,
   "metadata": {},
   "outputs": [],
   "source": []
  },
  {
   "cell_type": "code",
   "execution_count": null,
   "metadata": {},
   "outputs": [],
   "source": []
  },
  {
   "cell_type": "code",
   "execution_count": null,
   "metadata": {},
   "outputs": [],
   "source": []
  },
  {
   "cell_type": "code",
   "execution_count": null,
   "metadata": {},
   "outputs": [],
   "source": []
  },
  {
   "cell_type": "code",
   "execution_count": null,
   "metadata": {},
   "outputs": [],
   "source": []
  },
  {
   "cell_type": "code",
   "execution_count": null,
   "metadata": {},
   "outputs": [],
   "source": []
  },
  {
   "cell_type": "code",
   "execution_count": null,
   "metadata": {},
   "outputs": [],
   "source": []
  },
  {
   "cell_type": "code",
   "execution_count": null,
   "metadata": {},
   "outputs": [],
   "source": []
  }
 ],
 "metadata": {
  "kernelspec": {
   "display_name": "Python 3",
   "language": "python",
   "name": "python3"
  },
  "language_info": {
   "codemirror_mode": {
    "name": "ipython",
    "version": 3
   },
   "file_extension": ".py",
   "mimetype": "text/x-python",
   "name": "python",
   "nbconvert_exporter": "python",
   "pygments_lexer": "ipython3",
   "version": "3.8.5"
  }
 },
 "nbformat": 4,
 "nbformat_minor": 4
}
